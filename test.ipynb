{
 "cells": [
  {
   "cell_type": "code",
   "execution_count": 2,
   "id": "15468f4d",
   "metadata": {},
   "outputs": [],
   "source": [
    "import os\n",
    "from groq import Groq\n",
    "\n",
    "# 키를 여기에 넣어주세요\n",
    "\n",
    "with open(\"groq_api.txt\", \"r\", encoding=\"utf-8\") as file:\n",
    "    api_key = file.read()"
   ]
  },
  {
   "cell_type": "code",
   "execution_count": 5,
   "id": "3301d6e8",
   "metadata": {},
   "outputs": [
    {
     "name": "stdout",
     "output_type": "stream",
     "text": [
      "부산에서 취업하기 좋은 회사를 알려드릴게요. 고려해야 할 사항은 여러 가지가 있지만, 개발자 지망생이라는 점을 고려하여 IT 관련 기업을 중심으로 추천해 드리겠습니다.\n",
      "\n",
      "### 대기업\n",
      "\n",
      "1. **삼성 SDS**: 삼성계열의 IT서비스 기업으로, 다양한 IT 프로젝트를 수행합니다. 지방사립대 통계학과 출신도 도전할 만한 회사입니다.\n",
      "2. **LG CNS**: LG계열의 IT서비스 기업으로, 다양한 산업분야에 IT 솔루션을 제공합니다.\n",
      "3. **현대오토에버**: 현대자동차그룹의 IT서비스 기업으로, 자동차와 IT를 융합한 다양한 프로젝트를 수행합니다.\n",
      "\n",
      "### 중견기업\n",
      "\n",
      "1. **부산아이티기업 - 한웰**: IT서비스 및 솔루션 제공 기업으로, 부산에 본사를 둔 기업입니다.\n",
      "2. **디지아이**: IT 인프라 구축 및 솔루션 제공 기업으로, 부산에 본사를 둔 기업입니다.\n",
      "\n",
      "### 스타트업\n",
      "\n",
      "부산에는 다양한 스타트업이 있습니다. 스타트업은 대기업이나 중견기업보다 상대적으로 진입장벽이 낮을 수 있지만, 성장 가능성이 크다는 장점이 있습니다.\n",
      "\n",
      "1. **부산 스타트업 - 로앤굿**: 법률 AI 플랫폼을 개발하는 스타트업으로, 부산에 본사를 둔 기업입니다.\n",
      "2. **부산 스타트업 - 마이노멀**: AI 기반의 데이터 분석 및 솔루션 제공 스타트업으로, 부산에 본사를 둔 기업입니다.\n",
      "\n",
      "### 공기업\n",
      "\n",
      "1. **한국정보기술**: IT서비스 및 솔루션 제공 공기업으로, 부산에 지사를 둔 기업입니다.\n",
      "\n",
      "### 취업 준비 팁\n",
      "\n",
      "*   **네트워킹**: 다양한 산업 분야의 사람들과 네트워킹을 통해 취업 정보를 얻고, 인맥을 넓히는 것이 중요합니다.\n",
      "*   **포트폴리오**: 본인의 프로젝트나 개발 경험을 정리하여 포트폴리오를 만드는 것이 좋습니다. 이를 통해 본인의 개발 역량과 경험을 쉽게 보여줄 수 있습니다.\n",
      "*   **코딩 테스트**: 많은 기업이 코딩 테스트를 실시합니다. 코딩 테스트를 준비하여 자신의 코딩 실력을 향상시키는 것이 좋습니다.\n",
      "\n",
      "지방사립대 통계학과 출신이라는 점이 취업에 불리할 수 있지만, 위와 같은 팁을 참고하여 적극적으로 취업 준비를 한다면 좋은 결과를 얻을 수 있을 것입니다.\n"
     ]
    }
   ],
   "source": [
    "GROQ_API_KEY=api_key\n",
    "\n",
    "# Groq 클라이언트 초기화\n",
    "client = Groq(\n",
    "    api_key=GROQ_API_KEY\n",
    ")\n",
    "\n",
    "# API 호출\n",
    "chat_completion = client.chat.completions.create(\n",
    "    messages=[\n",
    "        {\n",
    "            \"role\": \"user\",\n",
    "            \"content\": \"내가 개발자 지망생인데 대한민국 부산에서 어디 회사에 취직하면 좋을까 / 스펙 대학교: 지방사립대 학과 : 통게학과 / 출력은 모두 한국어로 설명해줘\",\n",
    "        }\n",
    "    ],\n",
    "    model=\"meta-llama/llama-4-scout-17b-16e-instruct\",\n",
    ")\n",
    "\n",
    "# 응답 출력\n",
    "print(chat_completion.choices[0].message.content)"
   ]
  },
  {
   "cell_type": "code",
   "execution_count": null,
   "id": "e39ff5da",
   "metadata": {},
   "outputs": [],
   "source": []
  }
 ],
 "metadata": {
  "kernelspec": {
   "display_name": "bigibot",
   "language": "python",
   "name": "python3"
  },
  "language_info": {
   "codemirror_mode": {
    "name": "ipython",
    "version": 3
   },
   "file_extension": ".py",
   "mimetype": "text/x-python",
   "name": "python",
   "nbconvert_exporter": "python",
   "pygments_lexer": "ipython3",
   "version": "3.10.16"
  }
 },
 "nbformat": 4,
 "nbformat_minor": 5
}
